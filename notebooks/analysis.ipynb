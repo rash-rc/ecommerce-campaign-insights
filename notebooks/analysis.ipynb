{
  "cells": [
    {
      "cell_type": "markdown",
      "id": "intro-1",
      "metadata": {},
      "source": [
        "# E-commerce Campaign Insights – Exploratory Analysis\n",
        "This notebook explores seasonal patterns, demographics, and category performance to inform acquisition and retention campaigns.\n"
      ]
    },
    {
      "cell_type": "code",
      "execution_count": 2,
      "id": "cell-load-2",
      "metadata": {},
      "outputs": [
        {
          "data": {
            "text/html": [
              "<div>\n",
              "<style scoped>\n",
              "    .dataframe tbody tr th:only-of-type {\n",
              "        vertical-align: middle;\n",
              "    }\n",
              "\n",
              "    .dataframe tbody tr th {\n",
              "        vertical-align: top;\n",
              "    }\n",
              "\n",
              "    .dataframe thead th {\n",
              "        text-align: right;\n",
              "    }\n",
              "</style>\n",
              "<table border=\"1\" class=\"dataframe\">\n",
              "  <thead>\n",
              "    <tr style=\"text-align: right;\">\n",
              "      <th></th>\n",
              "      <th>order_id</th>\n",
              "      <th>order_date</th>\n",
              "      <th>country</th>\n",
              "      <th>region</th>\n",
              "      <th>city</th>\n",
              "      <th>age_group</th>\n",
              "      <th>gender</th>\n",
              "      <th>customer_type</th>\n",
              "      <th>category</th>\n",
              "      <th>brand</th>\n",
              "      <th>quantity</th>\n",
              "      <th>gross_sales</th>\n",
              "      <th>net_sales</th>\n",
              "      <th>returned</th>\n",
              "    </tr>\n",
              "  </thead>\n",
              "  <tbody>\n",
              "    <tr>\n",
              "      <th>0</th>\n",
              "      <td>1</td>\n",
              "      <td>2024-03-01</td>\n",
              "      <td>USA</td>\n",
              "      <td>CA</td>\n",
              "      <td>CA</td>\n",
              "      <td>40-49</td>\n",
              "      <td>Female</td>\n",
              "      <td>New</td>\n",
              "      <td>Jeans</td>\n",
              "      <td>NovaDenim</td>\n",
              "      <td>1</td>\n",
              "      <td>75.0</td>\n",
              "      <td>71.0</td>\n",
              "      <td>0</td>\n",
              "    </tr>\n",
              "  </tbody>\n",
              "</table>\n",
              "</div>"
            ],
            "text/plain": [
              "   order_id order_date country region city age_group  gender customer_type  \\\n",
              "0         1 2024-03-01     USA     CA   CA     40-49  Female           New   \n",
              "\n",
              "  category      brand  quantity  gross_sales  net_sales  returned  \n",
              "0    Jeans  NovaDenim         1         75.0       71.0         0  "
            ]
          },
          "execution_count": 2,
          "metadata": {},
          "output_type": "execute_result"
        }
      ],
      "source": [
        "import pandas as pd\n",
        "import matplotlib.pyplot as plt\n",
        "df = pd.read_csv('../data/synthetic_orders_2023-11_to_2024-10.csv', parse_dates=['order_date'])\n",
        "df.head()"
      ]
    },
    {
      "cell_type": "code",
      "execution_count": 3,
      "id": "cell-monthly-3",
      "metadata": {},
      "outputs": [
        {
          "name": "stderr",
          "output_type": "stream",
          "text": [
            "/var/folders/4y/xpqsjng91wz44_mnsnmdbl080000gn/T/ipykernel_70344/1055027588.py:2: FutureWarning: 'M' is deprecated and will be removed in a future version, please use 'ME' instead.\n",
            "  monthly = df.groupby(pd.Grouper(key='order_date', freq='M'))['gross_sales'].sum()\n",
            "/opt/anaconda3/lib/python3.12/site-packages/pandas/plotting/_matplotlib/core.py:1561: UserWarning: Attempting to set identical low and high xlims makes transformation singular; automatically expanding.\n",
            "  ax.set_xlim(left, right)\n"
          ]
        },
        {
          "data": {
            "image/png": "[encoded data removed]",
            "text/plain": [
              "<Figure size 640x480 with 1 Axes>"
            ]
          },
          "metadata": {},
          "output_type": "display_data"
        }
      ],
      "source": [
        "# Monthly seasonality\n",
        "monthly = df.groupby(pd.Grouper(key='order_date', freq='M'))['gross_sales'].sum()\n",
        "monthly.plot(title='Monthly Gross Sales')\n",
        "plt.xlabel('Month'); plt.ylabel('Gross Sales'); plt.show()"
      ]
    },
    {
      "cell_type": "code",
      "execution_count": null,
      "id": "cell-category-4",
      "metadata": {},
      "outputs": [],
      "source": [
        "# Category performance\n",
        "cat = df.groupby('category')['net_sales'].sum().sort_values(ascending=False)\n",
        "cat.plot(kind='bar', title='Net Sales by Category')\n",
        "plt.xlabel('Category'); plt.ylabel('Net Sales'); plt.tight_layout(); plt.show()"
      ]
    }
  ],
  "metadata": {
    "kernelspec": {
      "display_name": "base",
      "language": "python",
      "name": "python3"
    },
    "language_info": {
      "codemirror_mode": {
        "name": "ipython",
        "version": 3
      },
      "file_extension": ".py",
      "mimetype": "text/x-python",
      "name": "python",
      "nbconvert_exporter": "python",
      "pygments_lexer": "ipython3",
      "version": "3.12.7"
    }
  },
  "nbformat": 4,
  "nbformat_minor": 5
}
